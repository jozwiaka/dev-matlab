{
 "cells": [
  {
   "cell_type": "code",
   "execution_count": 1,
   "metadata": {},
   "outputs": [],
   "source": [
    "x1, x2, x3, y1, y2, y3 = var('x1, x2, x3, y1, y2, y3')"
   ]
  },
  {
   "cell_type": "code",
   "execution_count": 4,
   "metadata": {},
   "outputs": [],
   "source": [
    "%display latex"
   ]
  },
  {
   "cell_type": "code",
   "execution_count": 7,
   "metadata": {},
   "outputs": [],
   "source": [
    "A = y1*(x-x2)*(x-x3)/(x1-x2)/(x1-x3)+y2*(x-x1)*(x-x3)/(x2-x1)/(x2-x3)+y3*(x-x1)*(x-x2)/(x3-x1)/(x3-x2)"
   ]
  },
  {
   "cell_type": "code",
   "execution_count": 8,
   "metadata": {},
   "outputs": [
    {
     "data": {
      "text/html": [
       "<html><script type=\"math/tex; mode=display\">\\newcommand{\\Bold}[1]{\\mathbf{#1}}{(\\frac{x_{1} x_{3} y_{1}}{x_{1}^{2} - 2 \\, x_{1} x_{3} + x_{3}^{2}} + \\frac{x_{3}^{2} y_{1}}{x_{1}^{2} - 2 \\, x_{1} x_{3} + x_{3}^{2}} - \\frac{4 \\, x_{1} x_{3} y_{2}}{x_{1}^{2} - 2 \\, x_{1} x_{3} + x_{3}^{2}} + \\frac{x_{1}^{2} y_{3}}{x_{1}^{2} - 2 \\, x_{1} x_{3} + x_{3}^{2}} + \\frac{x_{1} x_{3} y_{3}}{x_{1}^{2} - 2 \\, x_{1} x_{3} + x_{3}^{2}})} + {(-\\frac{x_{1} y_{1}}{x_{1}^{2} - 2 \\, x_{1} x_{3} + x_{3}^{2}} - \\frac{3 \\, x_{3} y_{1}}{x_{1}^{2} - 2 \\, x_{1} x_{3} + x_{3}^{2}} + \\frac{4 \\, x_{1} y_{2}}{x_{1}^{2} - 2 \\, x_{1} x_{3} + x_{3}^{2}} + \\frac{4 \\, x_{3} y_{2}}{x_{1}^{2} - 2 \\, x_{1} x_{3} + x_{3}^{2}} - \\frac{3 \\, x_{1} y_{3}}{x_{1}^{2} - 2 \\, x_{1} x_{3} + x_{3}^{2}} - \\frac{x_{3} y_{3}}{x_{1}^{2} - 2 \\, x_{1} x_{3} + x_{3}^{2}})} x + {(\\frac{2 \\, y_{1}}{x_{1}^{2} - 2 \\, x_{1} x_{3} + x_{3}^{2}} - \\frac{4 \\, y_{2}}{x_{1}^{2} - 2 \\, x_{1} x_{3} + x_{3}^{2}} + \\frac{2 \\, y_{3}}{x_{1}^{2} - 2 \\, x_{1} x_{3} + x_{3}^{2}})} x^{2}</script></html>"
      ],
      "text/plain": [
       "(x1*x3*y1/(x1^2 - 2*x1*x3 + x3^2) + x3^2*y1/(x1^2 - 2*x1*x3 + x3^2) - 4*x1*x3*y2/(x1^2 - 2*x1*x3 + x3^2) + x1^2*y3/(x1^2 - 2*x1*x3 + x3^2) + x1*x3*y3/(x1^2 - 2*x1*x3 + x3^2)) + (-x1*y1/(x1^2 - 2*x1*x3 + x3^2) - 3*x3*y1/(x1^2 - 2*x1*x3 + x3^2) + 4*x1*y2/(x1^2 - 2*x1*x3 + x3^2) + 4*x3*y2/(x1^2 - 2*x1*x3 + x3^2) - 3*x1*y3/(x1^2 - 2*x1*x3 + x3^2) - x3*y3/(x1^2 - 2*x1*x3 + x3^2))*x + (2*y1/(x1^2 - 2*x1*x3 + x3^2) - 4*y2/(x1^2 - 2*x1*x3 + x3^2) + 2*y3/(x1^2 - 2*x1*x3 + x3^2))*x^2"
      ]
     },
     "execution_count": 8,
     "metadata": {},
     "output_type": "execute_result"
    }
   ],
   "source": [
    "A.series(x,+oo)"
   ]
  },
  {
   "cell_type": "code",
   "execution_count": 6,
   "metadata": {},
   "outputs": [],
   "source": [
    "x2 = (x1 + x3)/2"
   ]
  },
  {
   "cell_type": "code",
   "execution_count": 10,
   "metadata": {},
   "outputs": [
    {
     "data": {
      "text/html": [
       "<html><script type=\"math/tex; mode=display\">\\newcommand{\\Bold}[1]{\\mathbf{#1}}-\\frac{1}{6} \\, {\\left(x_{1} - x_{3}\\right)} y_{1} - \\frac{2}{3} \\, {\\left(x_{1} - x_{3}\\right)} y_{2} - \\frac{1}{6} \\, {\\left(x_{1} - x_{3}\\right)} y_{3}</script></html>"
      ],
      "text/plain": [
       "-1/6*(x1 - x3)*y1 - 2/3*(x1 - x3)*y2 - 1/6*(x1 - x3)*y3"
      ]
     },
     "execution_count": 10,
     "metadata": {},
     "output_type": "execute_result"
    }
   ],
   "source": [
    "integral(A, x, x1, x3).full_simplify()"
   ]
  },
  {
   "cell_type": "code",
   "execution_count": null,
   "metadata": {},
   "outputs": [],
   "source": []
  }
 ],
 "metadata": {
  "kernelspec": {
   "display_name": "SageMath 9.1",
   "language": "sage",
   "name": "sagemath"
  },
  "language_info": {
   "codemirror_mode": {
    "name": "ipython",
    "version": 3
   },
   "file_extension": ".py",
   "mimetype": "text/x-python",
   "name": "python",
   "nbconvert_exporter": "python",
   "pygments_lexer": "ipython3",
   "version": "3.7.3"
  }
 },
 "nbformat": 4,
 "nbformat_minor": 2
}
